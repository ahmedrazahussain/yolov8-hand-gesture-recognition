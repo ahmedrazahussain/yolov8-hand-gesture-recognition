{
 "cells": [
  {
   "cell_type": "code",
   "execution_count": 1,
   "id": "91bd57e7-e79d-43b2-a69d-8635f99f26de",
   "metadata": {},
   "outputs": [],
   "source": [
    "import cv2 as cv\n",
    "from ultralytics import YOLO"
   ]
  },
  {
   "cell_type": "code",
   "execution_count": 2,
   "id": "dd897a3a-0bb6-4e1f-ba1c-c3dd6b7062bb",
   "metadata": {},
   "outputs": [],
   "source": [
    "model = YOLO('hndges.pt')"
   ]
  },
  {
   "cell_type": "code",
   "execution_count": 7,
   "id": "b87dce73-e062-4c66-8c1b-b74c53b11608",
   "metadata": {},
   "outputs": [],
   "source": [
    "cap = cv.VideoCapture(0)\n",
    "while True:\n",
    "    r,frame = cap.read()\n",
    "    if r==True:\n",
    "        results = model.predict(source=frame, conf=0.5, verbose=False)\n",
    "        for result in results:\n",
    "            boxes = result.boxes\n",
    "            for box in boxes:\n",
    "                x1,y1,x2,y2 = map(int,box.xyxy[0])\n",
    "                cls_id = int(box.cls[0])\n",
    "                conf = float(box.conf[0])\n",
    "                label = model.names[cls_id]\n",
    "                cv.rectangle(frame, (x1,y1),(x2,y2),(0,255,0),2)\n",
    "                text = f'{label}{conf:.2f}'\n",
    "                cv.putText(frame,text,(x1,y1-10), cv.FONT_HERSHEY_SIMPLEX, 0.6,(0,255,0),2)\n",
    "        cv.imshow('frame',frame)\n",
    "        if cv.waitKey(30) & 0xff == ord('z'):\n",
    "            break\n",
    "cap.release()\n",
    "cv.destroyAllWindows()"
   ]
  },
  {
   "cell_type": "code",
   "execution_count": null,
   "id": "295638b4-1270-443d-b8ed-e6b591c0d92b",
   "metadata": {},
   "outputs": [],
   "source": []
  }
 ],
 "metadata": {
  "kernelspec": {
   "display_name": "Python 3 (ipykernel)",
   "language": "python",
   "name": "python3"
  },
  "language_info": {
   "codemirror_mode": {
    "name": "ipython",
    "version": 3
   },
   "file_extension": ".py",
   "mimetype": "text/x-python",
   "name": "python",
   "nbconvert_exporter": "python",
   "pygments_lexer": "ipython3",
   "version": "3.13.2"
  }
 },
 "nbformat": 4,
 "nbformat_minor": 5
}
